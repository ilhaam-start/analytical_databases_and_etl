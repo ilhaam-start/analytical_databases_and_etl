{
 "cells": [
  {
   "cell_type": "code",
   "execution_count": 4,
   "metadata": {},
   "outputs": [],
   "source": [
    "import requests\n",
    "from psycopg2 import connect, sql\n",
    "\n",
    "# Configure your PostgreSQL connection string\n",
    "conn_string = \"dbname='etl_bites' user='ilhaam.ahmed' password='etl_proj' host='localhost' port='5432'\"\n",
    "\n",
    "def get_data_from_api(url):\n",
    "    response = requests.get(url)\n",
    "    return response.json()\n",
    "\n",
    "posts_url = \"https://jsonplaceholder.typicode.com/posts\"\n",
    "users_url = \"https://jsonplaceholder.typicode.com/users\"\n",
    "\n",
    "posts_data = get_data_from_api(posts_url)\n",
    "users_data = get_data_from_api(users_url)"
   ]
  },
  {
   "attachments": {},
   "cell_type": "markdown",
   "metadata": {},
   "source": [
    "explain....."
   ]
  },
  {
   "cell_type": "code",
   "execution_count": 5,
   "metadata": {},
   "outputs": [],
   "source": [
    "def join_posts_and_users(posts, users):\n",
    "    for post in posts:\n",
    "        for user in users:\n",
    "            if post['userId'] == user['id']:\n",
    "                post['author'] = user['name']\n",
    "    return posts\n",
    "\n",
    "combined_data = join_posts_and_users(posts_data, users_data)"
   ]
  },
  {
   "attachments": {},
   "cell_type": "markdown",
   "metadata": {},
   "source": [
    "explain..."
   ]
  },
  {
   "cell_type": "code",
   "execution_count": 6,
   "metadata": {},
   "outputs": [],
   "source": [
    "# Create tables in analytical DB\n",
    "# This could also be done manually via a GUI (e.g. TablePlus) or with a SQL script\n",
    "def execute_query_postgresql(conn_string, query):\n",
    "    with connect(conn_string) as conn:\n",
    "        with conn.cursor() as cur:\n",
    "            cur.execute(query)\n",
    "            conn.commit()\n",
    "\n",
    "create_api_data_table = '''\n",
    "CREATE TABLE api_data (\n",
    "    post_id INTEGER NOT NULL,\n",
    "    title TEXT NOT NULL,\n",
    "    body TEXT NOT NULL,\n",
    "    user_id INTEGER NOT NULL,\n",
    "    author TEXT NOT NULL\n",
    ");\n",
    "'''\n",
    "\n",
    "execute_query_postgresql(conn_string, create_api_data_table)"
   ]
  },
  {
   "cell_type": "code",
   "execution_count": 7,
   "metadata": {},
   "outputs": [],
   "source": [
    "def insert_data_to_postgresql(conn_string, table_name, data):\n",
    "    with connect(conn_string) as conn:\n",
    "        with conn.cursor() as cur:\n",
    "            for item in data:\n",
    "                query = sql.SQL(\"INSERT INTO {} (post_id, title, body, user_id, author) VALUES (%s, %s, %s, %s, %s)\").format(sql.Identifier(table_name))\n",
    "                cur.execute(query, (item['id'], item['title'], item['body'], item['userId'], item['author']))\n",
    "        conn.commit()\n",
    "\n",
    "table_name = \"api_data\"\n",
    "insert_data_to_postgresql(conn_string, table_name, combined_data)"
   ]
  }
 ],
 "metadata": {
  "kernelspec": {
   "display_name": "analytical_databases_venv",
   "language": "python",
   "name": "python3"
  },
  "language_info": {
   "codemirror_mode": {
    "name": "ipython",
    "version": 3
   },
   "file_extension": ".py",
   "mimetype": "text/x-python",
   "name": "python",
   "nbconvert_exporter": "python",
   "pygments_lexer": "ipython3",
   "version": "3.11.2"
  },
  "orig_nbformat": 4
 },
 "nbformat": 4,
 "nbformat_minor": 2
}
